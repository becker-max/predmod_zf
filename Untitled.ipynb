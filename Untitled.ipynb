{
 "cells": [
  {
   "cell_type": "code",
   "execution_count": 13,
   "id": "8faf5df0-bfa7-494c-ac8b-04706bc600ee",
   "metadata": {},
   "outputs": [],
   "source": [
    "import numpy as np\n",
    "import pandas as pd"
   ]
  },
  {
   "cell_type": "code",
   "execution_count": 14,
   "id": "111acae5-9319-4e46-9ddb-69ee8364a975",
   "metadata": {},
   "outputs": [
    {
     "name": "stdout",
     "output_type": "stream",
     "text": [
      "0.44512588017424815\n"
     ]
    }
   ],
   "source": [
    "from scipy.stats import t\n",
    "\n",
    "p_two_sided = 2 * (1 - t.cdf(1.987/2.572, 34))\n",
    "print(p_two_sided)"
   ]
  },
  {
   "cell_type": "code",
   "execution_count": 28,
   "id": "c9fc0509-9ec1-4f1c-9be6-e597524c886d",
   "metadata": {},
   "outputs": [
    {
     "name": "stdout",
     "output_type": "stream",
     "text": [
      "2.4411\n"
     ]
    }
   ],
   "source": [
    "from scipy.stats import t\n",
    "import numpy as np\n",
    "\n",
    "# the 97.5% quantile of a t-distribution:\n",
    "q_975 = t.ppf(0.99, 34)\n",
    "print(np.round(q_975, 4))"
   ]
  },
  {
   "cell_type": "code",
   "execution_count": 30,
   "id": "234ad61c-f7f0-4240-af50-73cf8cec5440",
   "metadata": {},
   "outputs": [
    {
     "data": {
      "text/plain": [
       "3.987"
      ]
     },
     "execution_count": 30,
     "metadata": {},
     "output_type": "execute_result"
    }
   ],
   "source": [
    "5.340 -(2.750 * 0.492)"
   ]
  },
  {
   "cell_type": "code",
   "execution_count": null,
   "id": "06375279-93f3-42b3-8710-3ef40a513ada",
   "metadata": {},
   "outputs": [],
   "source": []
  }
 ],
 "metadata": {
  "kernelspec": {
   "display_name": "Python 3 (ipykernel)",
   "language": "python",
   "name": "python3"
  },
  "language_info": {
   "codemirror_mode": {
    "name": "ipython",
    "version": 3
   },
   "file_extension": ".py",
   "mimetype": "text/x-python",
   "name": "python",
   "nbconvert_exporter": "python",
   "pygments_lexer": "ipython3",
   "version": "3.9.10"
  }
 },
 "nbformat": 4,
 "nbformat_minor": 5
}
